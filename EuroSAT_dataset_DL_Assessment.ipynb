{
  "nbformat": 4,
  "nbformat_minor": 0,
  "metadata": {
    "colab": {
      "provenance": [],
      "authorship_tag": "ABX9TyM3fKVYpJribw9KVP84eNHw",
      "include_colab_link": true
    },
    "kernelspec": {
      "name": "python3",
      "display_name": "Python 3"
    },
    "language_info": {
      "name": "python"
    }
  },
  "cells": [
    {
      "cell_type": "markdown",
      "metadata": {
        "id": "view-in-github",
        "colab_type": "text"
      },
      "source": [
        "<a href=\"https://colab.research.google.com/github/EmezinaToshky/ML-in-Earth-Environmental-Sci./blob/main/EuroSAT_dataset_DL_Assessment.ipynb\" target=\"_parent\"><img src=\"https://colab.research.google.com/assets/colab-badge.svg\" alt=\"Open In Colab\"/></a>"
      ]
    },
    {
      "cell_type": "markdown",
      "source": [
        "**Assessment of the EuroSAT dataset by applying deep learning techniques.**\n",
        "\n",
        "Dataset description The EuroSAT dataset is a collection of images obtained of Land Use and Land Cover Classification with Sentinel-2.\n",
        "\n",
        "The creators of the dataset obtained it form images based on Sentinel-2 which covers 13 spectral bands and consisting out of 10 classes with in total 27,000 labeled and geo-referenced images. This projects used the dataset version which involved the RGB bands only (i.e., 3 bands).\n",
        "\n",
        "**Aim**\n",
        "\n",
        "Understanding the strenghts and limitations of different neural networks notably viewing the an ANN model (as baseline) and ResNet50 model.\n",
        "\n",
        "**References**\n",
        "\n",
        "The EuroSAT contains RGB dataset which can be found here: http://madm.dfki.de/files/sentinel/EuroSAT.zip.\n",
        "\n",
        "Eurosat: A novel dataset and deep learning benchmark for land use and land cover classification. Patrick Helber, Benjamin Bischke, Andreas Dengel, Damian Borth. IEEE Journal of Selected Topics in Applied Earth Observations and Remote Sensing, 2019\n",
        "\n",
        "Introducing EuroSAT: A Novel Dataset and Deep Learning Benchmark for Land Use and Land Cover Classification. Patrick Helber, Benjamin Bischke, Andreas Dengel. 2018 IEEE International Geoscience and Remote Sensing Symposium, 2018"
      ],
      "metadata": {
        "id": "UoNkQBUxik4w"
      }
    },
    {
      "cell_type": "markdown",
      "source": [
        "**Importing modules**"
      ],
      "metadata": {
        "id": "5c5Jv90Xjdrn"
      }
    },
    {
      "cell_type": "code",
      "execution_count": 1,
      "metadata": {
        "id": "vmnwX3J5b9Uw"
      },
      "outputs": [],
      "source": [
        "import numpy as np\n",
        "import matplotlib.pyplot as plt\n",
        "\n",
        "import tensorflow as tf\n",
        "import tensorflow_datasets as tfds\n",
        "\n",
        "from tensorflow.keras.applications.resnet import ResNet50, preprocess_input\n",
        "from tensorflow.keras.applications.vgg16 import VGG16, preprocess_input\n",
        "from tensorflow.keras.applications.vgg19 import VGG19, preprocess_input\n",
        "\n",
        "from sklearn.metrics import confusion_matrix, classification_report"
      ]
    }
  ]
}